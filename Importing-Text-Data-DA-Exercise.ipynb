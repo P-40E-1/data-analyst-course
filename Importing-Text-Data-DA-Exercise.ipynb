{
 "cells": [
  {
   "cell_type": "markdown",
   "metadata": {},
   "source": [
    "## Importing Data with NumPy"
   ]
  },
  {
   "cell_type": "markdown",
   "metadata": {},
   "source": [
    "### 1. Run the following cells:"
   ]
  },
  {
   "cell_type": "code",
   "execution_count": 1,
   "metadata": {},
   "outputs": [],
   "source": [
    "import numpy as np"
   ]
  },
  {
   "cell_type": "code",
   "execution_count": 2,
   "metadata": {},
   "outputs": [],
   "source": [
    "np.set_printoptions(suppress = True, linewidth = 150)"
   ]
  },
  {
   "cell_type": "markdown",
   "metadata": {},
   "source": [
    "### 2. Use loadtxt() to import the same file and display its contents. \n",
    "   <b> Hint:</b> By default np.loadtxt() asusmes all the values will be numeric, so it crashes when it encounters text data. We can bypass this by specifying the datatype to NumPy strings when importing. "
   ]
  },
  {
   "cell_type": "code",
   "execution_count": 3,
   "metadata": {},
   "outputs": [],
   "source": [
    "landing_co_TP = np.loadtxt('Lending-Company-Saving.csv', delimiter=',', dtype=np.str_)"
   ]
  },
  {
   "cell_type": "code",
   "execution_count": 4,
   "metadata": {},
   "outputs": [
    {
     "data": {
      "text/plain": [
       "array([['LoanID', 'StringID', 'Product', ..., 'Location', 'Region', 'TotalPrice'],\n",
       "       ['1', 'id_1', 'Product B', ..., 'Location 2', 'Region 2', '16600.0'],\n",
       "       ['2', 'id_2', 'Product B', ..., 'Location 3', '', '16600.0'],\n",
       "       ...,\n",
       "       ['1041', 'id_1041', 'Product B', ..., 'Location 23', 'Region 4', '16600.0'],\n",
       "       ['1042', 'id_1042', 'Product C', ..., 'Location 52', 'Region 6', '15600.0'],\n",
       "       ['1043', 'id_1043', 'Product B', ..., 'Location 142', 'Region 6', '16600.0']], dtype='<U14')"
      ]
     },
     "execution_count": 4,
     "metadata": {},
     "output_type": "execute_result"
    }
   ],
   "source": [
    "landing_co_TP"
   ]
  },
  {
   "cell_type": "markdown",
   "metadata": {},
   "source": [
    "### 3. Use np.genfromtxt() to import the \"Lending-Company-Total-Price.csv\" file and display its contents.\n",
    "    You can open the file in a text editor like Notepad++ to check its delimiter. "
   ]
  },
  {
   "cell_type": "code",
   "execution_count": 5,
   "metadata": {},
   "outputs": [],
   "source": [
    "landing_co_TP_1 = np.genfromtxt('Lending-Company-Saving.csv', delimiter=',')"
   ]
  },
  {
   "cell_type": "code",
   "execution_count": 6,
   "metadata": {},
   "outputs": [
    {
     "data": {
      "text/plain": [
       "array([[   nan,    nan,    nan, ...,    nan,    nan,    nan],\n",
       "       [    1.,    nan,    nan, ...,    nan,    nan, 16600.],\n",
       "       [    2.,    nan,    nan, ...,    nan,    nan, 16600.],\n",
       "       ...,\n",
       "       [ 1041.,    nan,    nan, ...,    nan,    nan, 16600.],\n",
       "       [ 1042.,    nan,    nan, ...,    nan,    nan, 15600.],\n",
       "       [ 1043.,    nan,    nan, ...,    nan,    nan, 16600.]])"
      ]
     },
     "execution_count": 6,
     "metadata": {},
     "output_type": "execute_result"
    }
   ],
   "source": [
    "landing_co_TP_1"
   ]
  },
  {
   "cell_type": "markdown",
   "metadata": {},
   "source": [
    "### 4. Using the arguments of the np.genfromtxt() function, do the following data cleaning:\n",
    "    A) Set the data type to strings. \n",
    "    B) Skip the first row of the dataset. \n",
    "    C) Skip the last 15 rows of the dataset. \n",
    "    D) Only pull data from the 2nd, 3rd and 5th columns. \n",
    "   (Note: You can do all of these at the same time.)"
   ]
  },
  {
   "cell_type": "code",
   "execution_count": 7,
   "metadata": {},
   "outputs": [],
   "source": [
    "landing_co_TP_1 = np.genfromtxt('Lending-Company-Saving.csv',\n",
    "                                delimiter=',',\n",
    "                                dtype=np.str_,\n",
    "                                skip_header=1,\n",
    "                                skip_footer=15,\n",
    "                                usecols=(2,3,5)\n",
    "                               )"
   ]
  },
  {
   "cell_type": "code",
   "execution_count": 8,
   "metadata": {},
   "outputs": [
    {
     "data": {
      "text/plain": [
       "array([['Product B', 'Male', 'Region 2'],\n",
       "       ['Product B', 'Male', ''],\n",
       "       ['Product C', 'Female', 'Region 5'],\n",
       "       ...,\n",
       "       ['Product C', 'Male', 'Region 6'],\n",
       "       ['Product B', 'Male', 'Region 1'],\n",
       "       ['Product D', 'Male', 'Region 4']], dtype='<U12')"
      ]
     },
     "execution_count": 8,
     "metadata": {},
     "output_type": "execute_result"
    }
   ],
   "source": [
    "landing_co_TP_1"
   ]
  },
  {
   "cell_type": "code",
   "execution_count": null,
   "metadata": {},
   "outputs": [],
   "source": [
    "### 5. Refer to the documentation of the np.genfromtxt() function and examine the following arguments and what they do:\n",
    "    A) comments\n",
    "    B) converters \n",
    "    C) missing_values\n",
    "    D) excludelist\n",
    "    E) deletechars\n",
    "    D) replace_space \n",
    "    E) autostrip\n",
    "   (You're <b>not</b> expected to provide any coding for this part. The cell below is provided for your convenience in case you want to try using the arguments as you go through them.)"
   ]
  },
  {
   "cell_type": "code",
   "execution_count": null,
   "metadata": {},
   "outputs": [],
   "source": []
  },
  {
   "cell_type": "code",
   "execution_count": null,
   "metadata": {},
   "outputs": [],
   "source": [
    "### 6. Now that you understand what these arguments do, add them to the code you wrote a few cells ago. \n",
    "    A) comments\n",
    "    B) converters \n",
    "    C) missing_values\n",
    "    D) excludelist\n",
    "    E) deletechars\n",
    "    D) replace_space \n",
    "    E) autostrip\n",
    "   <b>Note</b>: If you don't know what values to set, just refer to the documentation and set the defaults. "
   ]
  },
  {
   "cell_type": "code",
   "execution_count": null,
   "metadata": {},
   "outputs": [],
   "source": []
  },
  {
   "cell_type": "markdown",
   "metadata": {},
   "source": [
    "### 7. The first and last columns were the only ones with numeric data, so let's import only them."
   ]
  },
  {
   "cell_type": "code",
   "execution_count": 17,
   "metadata": {
    "scrolled": true
   },
   "outputs": [
    {
     "data": {
      "text/plain": [
       "array([['1', '16600.0'],\n",
       "       ['2', '16600.0']], dtype='<U7')"
      ]
     },
     "execution_count": 17,
     "metadata": {},
     "output_type": "execute_result"
    }
   ],
   "source": [
    "landing_co_PT = np.genfromtxt(\"Lending-Company-Saving.csv\",\n",
    "                              delimiter = ',',\n",
    "                              dtype = np.str_,\n",
    "                              skip_header = 1,\n",
    "                              usecols = (0,-1),\n",
    "                              max_rows=2,\n",
    "                             )\n",
    "\n",
    "\n",
    "landing_co_PT"
   ]
  },
  {
   "cell_type": "code",
   "execution_count": null,
   "metadata": {},
   "outputs": [],
   "source": []
  }
 ],
 "metadata": {
  "kernelspec": {
   "display_name": "Python 3 (ipykernel)",
   "language": "python",
   "name": "python3"
  },
  "language_info": {
   "codemirror_mode": {
    "name": "ipython",
    "version": 3
   },
   "file_extension": ".py",
   "mimetype": "text/x-python",
   "name": "python",
   "nbconvert_exporter": "python",
   "pygments_lexer": "ipython3",
   "version": "3.11.7"
  }
 },
 "nbformat": 4,
 "nbformat_minor": 2
}
